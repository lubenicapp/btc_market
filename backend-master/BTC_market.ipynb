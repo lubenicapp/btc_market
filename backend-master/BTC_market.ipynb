{
 "cells": [
  {
   "cell_type": "markdown",
   "id": "cc155d04",
   "metadata": {},
   "source": [
    "# Bitcoin Market"
   ]
  },
  {
   "cell_type": "code",
   "execution_count": 1,
   "id": "f7187c34",
   "metadata": {},
   "outputs": [
    {
     "data": {
      "text/plain": [
       "true"
      ]
     },
     "execution_count": 1,
     "metadata": {},
     "output_type": "execute_result"
    }
   ],
   "source": [
    "require_relative 'lib/btc_market'"
   ]
  },
  {
   "cell_type": "markdown",
   "id": "65fbcc6f",
   "metadata": {},
   "source": [
    "## initiate a market object and explore its state"
   ]
  },
  {
   "cell_type": "code",
   "execution_count": 2,
   "id": "5b01a12a",
   "metadata": {},
   "outputs": [
    {
     "data": {
      "text/plain": [
       "#<BTCMarket::Market:0x00007f4dc6b04df0 @db=#<BTCMarket::DBConnector:0x00007f4dc6b04b98 @bids={}, @asks={}, @id=-1>>"
      ]
     },
     "execution_count": 2,
     "metadata": {},
     "output_type": "execute_result"
    }
   ],
   "source": [
    "market = BTCMarket::Market.new"
   ]
  },
  {
   "cell_type": "code",
   "execution_count": 3,
   "id": "1a14406f",
   "metadata": {},
   "outputs": [
    {
     "data": {
      "text/plain": [
       "{\"bids\"=>[], \"base\"=>\"BTC\", \"quite\"=>\"EUR\", \"asks\"=>[]}"
      ]
     },
     "execution_count": 3,
     "metadata": {},
     "output_type": "execute_result"
    }
   ],
   "source": [
    "market.market_depth"
   ]
  },
  {
   "cell_type": "code",
   "execution_count": 4,
   "id": "208bc43e",
   "metadata": {},
   "outputs": [
    {
     "data": {
      "text/plain": [
       "0"
      ]
     },
     "execution_count": 4,
     "metadata": {},
     "output_type": "execute_result"
    }
   ],
   "source": [
    "market.market_price"
   ]
  },
  {
   "cell_type": "markdown",
   "id": "63ff1d54",
   "metadata": {},
   "source": [
    "## Creating orders"
   ]
  },
  {
   "cell_type": "code",
   "execution_count": 5,
   "id": "050e5df7",
   "metadata": {},
   "outputs": [
    {
     "data": {
      "text/plain": [
       "#<BTCMarket::Models::Order:0x00007f4dc69b4798 @btc=10, @price=5, @side=\"buy\">"
      ]
     },
     "execution_count": 5,
     "metadata": {},
     "output_type": "execute_result"
    }
   ],
   "source": [
    "order = BTCMarket::Models::Order.new(10, 5, 'buy')"
   ]
  },
  {
   "cell_type": "code",
   "execution_count": 6,
   "id": "5c93ff39",
   "metadata": {},
   "outputs": [
    {
     "data": {
      "text/plain": [
       "0"
      ]
     },
     "execution_count": 6,
     "metadata": {},
     "output_type": "execute_result"
    }
   ],
   "source": [
    "market.submit(order)"
   ]
  },
  {
   "cell_type": "code",
   "execution_count": 7,
   "id": "fc029561",
   "metadata": {},
   "outputs": [
    {
     "data": {
      "text/plain": [
       "{\"bids\"=>[[5, 10]], \"base\"=>\"BTC\", \"quite\"=>\"EUR\", \"asks\"=>[]}"
      ]
     },
     "execution_count": 7,
     "metadata": {},
     "output_type": "execute_result"
    }
   ],
   "source": [
    "market.market_depth"
   ]
  },
  {
   "cell_type": "markdown",
   "id": "7b3e9ac5",
   "metadata": {},
   "source": [
    "duplicate the order"
   ]
  },
  {
   "cell_type": "code",
   "execution_count": 8,
   "id": "b3871974",
   "metadata": {},
   "outputs": [
    {
     "data": {
      "text/plain": [
       "1"
      ]
     },
     "execution_count": 8,
     "metadata": {},
     "output_type": "execute_result"
    }
   ],
   "source": [
    "market.submit(order)"
   ]
  },
  {
   "cell_type": "markdown",
   "id": "6d3ad785",
   "metadata": {},
   "source": [
    "the id increased"
   ]
  },
  {
   "cell_type": "code",
   "execution_count": 9,
   "id": "704678e4",
   "metadata": {},
   "outputs": [
    {
     "data": {
      "text/plain": [
       "#<BTCMarket::Models::Order:0x00007f4dc69157b0 @btc=5, @price=2.3, @side=\"sell\">"
      ]
     },
     "execution_count": 9,
     "metadata": {},
     "output_type": "execute_result"
    }
   ],
   "source": [
    "order = BTCMarket::Models::Order.new(5, 2.3, 'sell')"
   ]
  },
  {
   "cell_type": "code",
   "execution_count": 10,
   "id": "faf64861",
   "metadata": {},
   "outputs": [
    {
     "data": {
      "text/plain": [
       "2"
      ]
     },
     "execution_count": 10,
     "metadata": {},
     "output_type": "execute_result"
    }
   ],
   "source": [
    "market.submit(order)"
   ]
  },
  {
   "cell_type": "code",
   "execution_count": 11,
   "id": "5cfd43d1",
   "metadata": {},
   "outputs": [
    {
     "data": {
      "text/plain": [
       "6.15"
      ]
     },
     "execution_count": 11,
     "metadata": {},
     "output_type": "execute_result"
    }
   ],
   "source": [
    "market.market_price"
   ]
  },
  {
   "cell_type": "code",
   "execution_count": 12,
   "id": "1d5573e0",
   "metadata": {},
   "outputs": [
    {
     "data": {
      "text/plain": [
       "{\"bids\"=>[[5, 10], [5, 10]], \"base\"=>\"BTC\", \"quite\"=>\"EUR\", \"asks\"=>[[2.3, 5]]}"
      ]
     },
     "execution_count": 12,
     "metadata": {},
     "output_type": "execute_result"
    }
   ],
   "source": [
    "market.market_depth"
   ]
  },
  {
   "cell_type": "code",
   "execution_count": 13,
   "id": "595404d3",
   "metadata": {},
   "outputs": [
    {
     "data": {
      "text/plain": [
       "true"
      ]
     },
     "execution_count": 13,
     "metadata": {},
     "output_type": "execute_result"
    }
   ],
   "source": [
    "market.cancel_order(0)"
   ]
  },
  {
   "cell_type": "code",
   "execution_count": 14,
   "id": "ffc0668b",
   "metadata": {},
   "outputs": [
    {
     "data": {
      "text/plain": [
       "{\"bids\"=>[[5, 10]], \"base\"=>\"BTC\", \"quite\"=>\"EUR\", \"asks\"=>[[2.3, 5]]}"
      ]
     },
     "execution_count": 14,
     "metadata": {},
     "output_type": "execute_result"
    }
   ],
   "source": [
    "market.market_depth"
   ]
  },
  {
   "cell_type": "code",
   "execution_count": null,
   "id": "b9f03901",
   "metadata": {},
   "outputs": [],
   "source": []
  }
 ],
 "metadata": {
  "kernelspec": {
   "display_name": "Ruby 3.1.2",
   "language": "ruby",
   "name": "ruby"
  },
  "language_info": {
   "file_extension": ".rb",
   "mimetype": "application/x-ruby",
   "name": "ruby",
   "version": "3.1.2"
  }
 },
 "nbformat": 4,
 "nbformat_minor": 5
}
