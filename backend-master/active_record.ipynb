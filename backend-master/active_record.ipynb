{
 "cells": [
  {
   "cell_type": "code",
   "execution_count": 5,
   "id": "5e182d8d",
   "metadata": {},
   "outputs": [
    {
     "data": {
      "text/plain": [
       "true"
      ]
     },
     "execution_count": 5,
     "metadata": {},
     "output_type": "execute_result"
    }
   ],
   "source": [
    "require 'active_record'"
   ]
  },
  {
   "cell_type": "code",
   "execution_count": 7,
   "id": "a30255f4",
   "metadata": {},
   "outputs": [
    {
     "data": {
      "text/plain": [
       "#<ActiveRecord::ConnectionAdapters::ConnectionPool:0x00007fd55215d248 @mon_data=#<Monitor:0x00007fd55215d1a8>, @mon_data_owner_object_id=50660, @query_cache_enabled=#<Concurrent::Map:0x00007fd55215d158 entries=0 default_proc=#<Proc:0x00007fd55215d068 /usr/share/rvm/gems/ruby-3.1.2/gems/activerecord-7.0.3/lib/active_record/connection_adapters/abstract/query_cache.rb:32>>, @pool_config=#<ActiveRecord::ConnectionAdapters::PoolConfig:0x00007fd55215df68 @_mutex=#<Thread::Mutex:0x00007fd55215def0>, @connection_class=ActiveRecord::Base, @db_config=#<ActiveRecord::DatabaseConfigurations::HashConfig:0x00007fd55215e670 @env_name=\"default_env\", @name=\"primary\", @configuration_hash={:adapter=>\"mysql2\", :host=>\"0.0.0.0\", :username=>\"joe\", :password=>\"taxi\", :database=>\"paymium\"}>, @role=:writing, @shard=:default, @pool=#<ActiveRecord::ConnectionAdapters::ConnectionPool:0x00007fd55215d248 ...>>, @db_config=#<ActiveRecord::DatabaseConfigurations::HashConfig:0x00007fd55215e670 @env_name=\"default_env\", @name=\"primary\", @configuration_hash={:adapter=>\"mysql2\", :host=>\"0.0.0.0\", :username=>\"joe\", :password=>\"taxi\", :database=>\"paymium\"}>, @connection_class=ActiveRecord::Base, @role=:writing, @shard=:default, @checkout_timeout=5.0, @idle_timeout=300.0, @size=5, @thread_cached_conns=#<Concurrent::Map:0x00007fd55215d018 entries=0 default_proc=nil>, @connections=[], @automatic_reconnect=true, @now_connecting=0, @threads_blocking_new_connections=0, @available=#<ActiveRecord::ConnectionAdapters::ConnectionPool::ConnectionLeasingQueue:0x00007fd55215cf78 @lock=#<ActiveRecord::ConnectionAdapters::ConnectionPool:0x00007fd55215d248 ...>, @cond=#<MonitorMixin::ConditionVariable:0x00007fd55215cf00 @monitor=#<Monitor:0x00007fd55215d1a8>, @cond=#<Thread::ConditionVariable:0x00007fd55215ce60>>, @num_waiting=0, @queue=[]>, @lock_thread=false, @async_executor=nil, @reaper=#<ActiveRecord::ConnectionAdapters::ConnectionPool::Reaper:0x00007fd55215ce10 @pool=#<ActiveRecord::ConnectionAdapters::ConnectionPool:0x00007fd55215d248 ...>, @frequency=60.0>>"
      ]
     },
     "execution_count": 7,
     "metadata": {},
     "output_type": "execute_result"
    }
   ],
   "source": [
    "ActiveRecord::Base.establish_connection(\n",
    "  adapter: 'mysql2',\n",
    "  host: '0.0.0.0',\n",
    "  username: 'joe',\n",
    "  password: 'taxi',\n",
    "  database: 'paymium'\n",
    ")"
   ]
  },
  {
   "cell_type": "code",
   "execution_count": null,
   "id": "bd474e24",
   "metadata": {},
   "outputs": [],
   "source": []
  },
  {
   "cell_type": "code",
   "execution_count": 12,
   "id": "f270ae18",
   "metadata": {},
   "outputs": [
    {
     "data": {
      "text/plain": [
       "0.1000025e1"
      ]
     },
     "execution_count": 12,
     "metadata": {},
     "output_type": "execute_result"
    }
   ],
   "source": [
    "n = BigDecimal('1.000025')"
   ]
  },
  {
   "cell_type": "code",
   "execution_count": 13,
   "id": "8e48bb0a",
   "metadata": {},
   "outputs": [
    {
     "data": {
      "text/plain": [
       "0.1000025e1"
      ]
     },
     "execution_count": 13,
     "metadata": {},
     "output_type": "execute_result"
    }
   ],
   "source": [
    "n"
   ]
  },
  {
   "cell_type": "code",
   "execution_count": 16,
   "id": "405e3582",
   "metadata": {},
   "outputs": [
    {
     "ename": "NoMethodError",
     "evalue": "undefined method `float' for #<Object:0x00007fd554eab358 @prompt={:PROMPT_I=>\"3.1.2 :%03n > \", :PROMPT_S=>\"3.1.2 :%03n%l> \", :PROMPT_C=>\"3.1.2 :%03n > \", :PROMPT_N=>\"3.1.2 :%03n?> \", :RETURN=>\" => %s \\n\", :AUTO_INDENT=>true}>\nDid you mean?  Float",
     "output_type": "error",
     "traceback": [
      "\u001b[31mNoMethodError\u001b[0m: undefined method `float' for #<Object:0x00007fd554eab358 @prompt={:PROMPT_I=>\"3.1.2 :%03n > \", :PROMPT_S=>\"3.1.2 :%03n%l> \", :PROMPT_C=>\"3.1.2 :%03n > \", :PROMPT_N=>\"3.1.2 :%03n?> \", :RETURN=>\" => %s \\n\", :AUTO_INDENT=>true}>\nDid you mean?  Float",
      "(irb):in `<top (required)>'"
     ]
    }
   ],
   "source": [
    "float(n + 3 / 2) "
   ]
  },
  {
   "cell_type": "code",
   "execution_count": 17,
   "id": "562003c8",
   "metadata": {},
   "outputs": [
    {
     "data": {
      "text/plain": [
       "\"1.000025\""
      ]
     },
     "execution_count": 17,
     "metadata": {},
     "output_type": "execute_result"
    }
   ],
   "source": [
    "n.to_s"
   ]
  },
  {
   "cell_type": "code",
   "execution_count": 18,
   "id": "89a45884",
   "metadata": {},
   "outputs": [
    {
     "data": {
      "text/plain": [
       "0.1000025e1"
      ]
     },
     "execution_count": 18,
     "metadata": {},
     "output_type": "execute_result"
    }
   ],
   "source": [
    "BigDecimal(n.to_s)"
   ]
  },
  {
   "cell_type": "code",
   "execution_count": null,
   "id": "b4b60e35",
   "metadata": {},
   "outputs": [],
   "source": []
  }
 ],
 "metadata": {
  "kernelspec": {
   "display_name": "Ruby 3.1.2",
   "language": "ruby",
   "name": "ruby"
  },
  "language_info": {
   "file_extension": ".rb",
   "mimetype": "application/x-ruby",
   "name": "ruby",
   "version": "3.1.2"
  }
 },
 "nbformat": 4,
 "nbformat_minor": 5
}
