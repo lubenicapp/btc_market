{
 "cells": [
  {
   "cell_type": "code",
   "execution_count": null,
   "id": "ca14aaaf",
   "metadata": {},
   "outputs": [],
   "source": [
    "require 'sequel'"
   ]
  },
  {
   "cell_type": "code",
   "execution_count": null,
   "id": "b44f3769",
   "metadata": {},
   "outputs": [],
   "source": [
    "DB = Sequel.connect(\n",
    "  :adapter => 'mysql2',\n",
    "  :user => 'joe',\n",
    "  :host => '0.0.0.0',\n",
    "  :database => 'paymium' ,\n",
    "  :password=>'taxi')"
   ]
  },
  {
   "cell_type": "code",
   "execution_count": null,
   "id": "bf350780",
   "metadata": {},
   "outputs": [],
   "source": [
    "DB.tables"
   ]
  },
  {
   "cell_type": "code",
   "execution_count": null,
   "id": "d5657059",
   "metadata": {},
   "outputs": [
    {
     "data": {
      "text/plain": [
       ":total"
      ]
     },
     "execution_count": 4,
     "metadata": {},
     "output_type": "execute_result"
    }
   ],
   "source": [
    "class User < Sequel::Model\n",
    "  def total\n",
    "    self.btc + self.eur\n",
    "  end\n",
    "end"
   ]
  },
  {
   "cell_type": "code",
   "execution_count": 5,
   "id": "7d1eab91",
   "metadata": {},
   "outputs": [
    {
     "data": {
      "text/plain": [
       "[#<#<Class:0x00007fc381719de0>::User @values={:id=>3, :eur=>\"0.17780099852e5\", :btc=>\"0.1450222e3\"}>, #<#<Class:0x00007fc381719de0>::User @values={:id=>4, :eur=>\"114444444\", :btc=>\"111110\"}>, #<#<Class:0x00007fc381719de0>::User @values={:id=>5, :eur=>\"114444444\", :btc=>\"111110\"}>, #<#<Class:0x00007fc381719de0>::User @values={:id=>6, :eur=>\"114444444\", :btc=>\"111110\"}>, #<#<Class:0x00007fc381719de0>::User @values={:id=>7, :eur=>\"114444444\", :btc=>\"111110\"}>, #<#<Class:0x00007fc381719de0>::User @values={:id=>8, :eur=>\"114444444\", :btc=>\"111110\"}>]"
      ]
     },
     "execution_count": 5,
     "metadata": {},
     "output_type": "execute_result"
    }
   ],
   "source": [
    "user = User.all"
   ]
  },
  {
   "cell_type": "code",
   "execution_count": 6,
   "id": "f0f983da",
   "metadata": {},
   "outputs": [
    {
     "data": {
      "text/plain": [
       "#<#<Class:0x00007fc381719de0>::User @values={:btc=>\"0.1450222e3\", :eur=>\"0.17780099852e5\"}>"
      ]
     },
     "execution_count": 6,
     "metadata": {},
     "output_type": "execute_result"
    }
   ],
   "source": [
    "user = User.new(btc: BigDecimal('145.0222').to_s, eur: BigDecimal('17780.099852'))"
   ]
  },
  {
   "cell_type": "code",
   "execution_count": 7,
   "id": "557c576c",
   "metadata": {},
   "outputs": [
    {
     "data": {
      "text/plain": [
       "9"
      ]
     },
     "execution_count": 7,
     "metadata": {},
     "output_type": "execute_result"
    }
   ],
   "source": [
    "user.save.id"
   ]
  },
  {
   "cell_type": "code",
   "execution_count": null,
   "id": "4625a65f",
   "metadata": {},
   "outputs": [],
   "source": [
    "User.first"
   ]
  },
  {
   "cell_type": "code",
   "execution_count": null,
   "id": "d05e8248",
   "metadata": {},
   "outputs": [],
   "source": [
    "BigDecimal('joe')"
   ]
  },
  {
   "cell_type": "code",
   "execution_count": 8,
   "id": "25f85ac2",
   "metadata": {},
   "outputs": [
    {
     "data": {
      "text/plain": [
       "#<Sequel::Mysql2::Dataset: \"SELECT * FROM `users`\">"
      ]
     },
     "execution_count": 8,
     "metadata": {},
     "output_type": "execute_result"
    }
   ],
   "source": [
    "users = DB[:users]"
   ]
  },
  {
   "cell_type": "code",
   "execution_count": 12,
   "id": "0387c328",
   "metadata": {},
   "outputs": [
    {
     "data": {
      "text/plain": [
       "[{5=>[\"111110\"]}]"
      ]
     },
     "execution_count": 12,
     "metadata": {},
     "output_type": "execute_result"
    }
   ],
   "source": [
    "users.where(id: 5).map { |u| {u[:id]=>[u[:btc]]} }"
   ]
  },
  {
   "cell_type": "code",
   "execution_count": null,
   "id": "6620740f",
   "metadata": {},
   "outputs": [],
   "source": []
  }
 ],
 "metadata": {
  "kernelspec": {
   "display_name": "Ruby 3.1.2",
   "language": "ruby",
   "name": "ruby"
  },
  "language_info": {
   "file_extension": ".rb",
   "mimetype": "application/x-ruby",
   "name": "ruby",
   "version": "3.1.2"
  }
 },
 "nbformat": 4,
 "nbformat_minor": 5
}
