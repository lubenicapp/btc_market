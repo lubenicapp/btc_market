{
 "cells": [
  {
   "cell_type": "code",
   "execution_count": 5,
   "id": "8173e547",
   "metadata": {},
   "outputs": [
    {
     "data": {
      "text/plain": [
       "false"
      ]
     },
     "execution_count": 5,
     "metadata": {},
     "output_type": "execute_result"
    }
   ],
   "source": [
    "require 'sequel'"
   ]
  },
  {
   "cell_type": "code",
   "execution_count": 6,
   "id": "d2fb556e",
   "metadata": {},
   "outputs": [
    {
     "name": "stderr",
     "output_type": "stream",
     "text": [
      "(irb): warning: already initialized constant Object::DB\n"
     ]
    },
    {
     "data": {
      "text/plain": [
       "#<Sequel::Mysql2::Database: {:adapter=>\"mysql2\", :user=>\"joe\", :host=>\"0.0.0.0\", :database=>\"paymium\", :password=>\"taxi\"}>"
      ]
     },
     "execution_count": 6,
     "metadata": {},
     "output_type": "execute_result"
    }
   ],
   "source": [
    "DB = Sequel.connect(\n",
    "  :adapter => 'mysql2',\n",
    "  :user => 'joe',\n",
    "  :host => '0.0.0.0',\n",
    "  :database => 'paymium' ,\n",
    "  :password=>'taxi')"
   ]
  },
  {
   "cell_type": "code",
   "execution_count": 7,
   "id": "df566465",
   "metadata": {},
   "outputs": [
    {
     "data": {
      "text/plain": [
       "[:orders, :users]"
      ]
     },
     "execution_count": 7,
     "metadata": {},
     "output_type": "execute_result"
    }
   ],
   "source": [
    "DB.tables"
   ]
  },
  {
   "cell_type": "code",
   "execution_count": 8,
   "id": "aa7c85c7",
   "metadata": {},
   "outputs": [
    {
     "data": {
      "text/plain": [
       ":total"
      ]
     },
     "execution_count": 8,
     "metadata": {},
     "output_type": "execute_result"
    }
   ],
   "source": [
    "class User < Sequel::Model\n",
    "  def total\n",
    "    self.btc + self.eur\n",
    "  end\n",
    "end"
   ]
  },
  {
   "cell_type": "code",
   "execution_count": 11,
   "id": "a4f44e11",
   "metadata": {},
   "outputs": [],
   "source": [
    "class Order < Sequel::Model\n",
    "end"
   ]
  },
  {
   "cell_type": "code",
   "execution_count": 9,
   "id": "d1103034",
   "metadata": {},
   "outputs": [
    {
     "data": {
      "text/plain": [
       "[#<#<Class:0x00007fc5225477e0>::User @values={:id=>3, :eur=>\"45000\", :btc=>\"10\"}>, #<#<Class:0x00007fc5225477e0>::User @values={:id=>4, :eur=>\"1200\", :btc=>\"0.02\"}>, #<#<Class:0x00007fc5225477e0>::User @values={:id=>5, :eur=>\"45000\", :btc=>\"12\"}>, #<#<Class:0x00007fc5225477e0>::User @values={:id=>6, :eur=>\"45000\", :btc=>\"12\"}>, #<#<Class:0x00007fc5225477e0>::User @values={:id=>7, :eur=>\"15000\", :btc=>\"2\"}>, #<#<Class:0x00007fc5225477e0>::User @values={:id=>8, :eur=>\"45000\", :btc=>\"12\"}>, #<#<Class:0x00007fc5225477e0>::User @values={:id=>9, :eur=>\"15000\", :btc=>\"2\"}>]"
      ]
     },
     "execution_count": 9,
     "metadata": {},
     "output_type": "execute_result"
    }
   ],
   "source": [
    "user = User.all"
   ]
  },
  {
   "cell_type": "code",
   "execution_count": 12,
   "id": "f67649f1",
   "metadata": {},
   "outputs": [
    {
     "data": {
      "text/plain": [
       "[#<#<Class:0x00007fc5225477e0>::Order @values={:id=>31, :user_id=>6, :amount=>\"10\", :price=>\"5\", :side=>\"buy\", :state=>\"created\", :market=>nil}>, #<#<Class:0x00007fc5225477e0>::Order @values={:id=>32, :user_id=>6, :amount=>\"10\", :price=>\"5\", :side=>\"buy\", :state=>\"created\", :market=>nil}>, #<#<Class:0x00007fc5225477e0>::Order @values={:id=>33, :user_id=>7, :amount=>\"5\", :price=>\"2.3\", :side=>\"sell\", :state=>\"created\", :market=>nil}>, #<#<Class:0x00007fc5225477e0>::Order @values={:id=>34, :user_id=>7, :amount=>\"5\", :price=>\"2.3\", :side=>\"sell\", :state=>\"created\", :market=>nil}>, #<#<Class:0x00007fc5225477e0>::Order @values={:id=>35, :user_id=>8, :amount=>\"10\", :price=>\"5\", :side=>\"buy\", :state=>\"created\", :market=>nil}>, #<#<Class:0x00007fc5225477e0>::Order @values={:id=>36, :user_id=>8, :amount=>\"10\", :price=>\"5\", :side=>\"buy\", :state=>\"created\", :market=>nil}>, #<#<Class:0x00007fc5225477e0>::Order @values={:id=>37, :user_id=>9, :amount=>\"5\", :price=>\"2.3\", :side=>\"sell\", :state=>\"created\", :market=>nil}>, #<#<Class:0x00007fc5225477e0>::Order @values={:id=>38, :user_id=>9, :amount=>\"5\", :price=>\"2.3\", :side=>\"sell\", :state=>\"created\", :market=>nil}>]"
      ]
     },
     "execution_count": 12,
     "metadata": {},
     "output_type": "execute_result"
    }
   ],
   "source": [
    "order = Order.all"
   ]
  },
  {
   "cell_type": "code",
   "execution_count": null,
   "id": "c038f7a5",
   "metadata": {},
   "outputs": [],
   "source": [
    "user = User.new(btc: BigDecimal('145.0222').to_s, eur: BigDecimal('17780.099852'))"
   ]
  },
  {
   "cell_type": "code",
   "execution_count": null,
   "id": "33f1f0a4",
   "metadata": {},
   "outputs": [],
   "source": [
    "user.save.id"
   ]
  },
  {
   "cell_type": "code",
   "execution_count": null,
   "id": "b57fadc7",
   "metadata": {},
   "outputs": [],
   "source": [
    "User.first"
   ]
  },
  {
   "cell_type": "code",
   "execution_count": null,
   "id": "e5d752ee",
   "metadata": {},
   "outputs": [],
   "source": [
    "BigDecimal('joe')"
   ]
  },
  {
   "cell_type": "code",
   "execution_count": null,
   "id": "bb24634d",
   "metadata": {},
   "outputs": [],
   "source": [
    "users = DB[:users]"
   ]
  },
  {
   "cell_type": "code",
   "execution_count": null,
   "id": "9cc9a85c",
   "metadata": {},
   "outputs": [],
   "source": [
    "users.where(id: 5).map { |u| {u[:id]=>[u[:btc]]} }"
   ]
  },
  {
   "cell_type": "code",
   "execution_count": null,
   "id": "f8194252",
   "metadata": {},
   "outputs": [],
   "source": [
    "def arr(btc: 0)\n",
    "  puts btc\n",
    "end"
   ]
  },
  {
   "cell_type": "code",
   "execution_count": null,
   "id": "c10c3a7e",
   "metadata": {},
   "outputs": [],
   "source": [
    "arr"
   ]
  },
  {
   "cell_type": "code",
   "execution_count": null,
   "id": "b8f2aa7e",
   "metadata": {},
   "outputs": [],
   "source": [
    "arr(btc: 14)"
   ]
  },
  {
   "cell_type": "code",
   "execution_count": 16,
   "id": "44d3dc80",
   "metadata": {},
   "outputs": [
    {
     "data": {
      "text/plain": [
       "#<Sequel::Mysql2::Dataset: \"SELECT * FROM `orders`\">"
      ]
     },
     "execution_count": 16,
     "metadata": {},
     "output_type": "execute_result"
    }
   ],
   "source": [
    "orders = DB[:orders]"
   ]
  },
  {
   "cell_type": "code",
   "execution_count": 25,
   "id": "6b9e2ee1",
   "metadata": {},
   "outputs": [
    {
     "data": {
      "text/plain": [
       "{31=>[\"5\", \"10\"], 32=>[\"5\", \"10\"], 35=>[\"5\", \"10\"], 36=>[\"5\", \"10\"], 40=>[\"14\", \"250\"]}"
      ]
     },
     "execution_count": 25,
     "metadata": {},
     "output_type": "execute_result"
    }
   ],
   "source": [
    "        result = {}\n",
    "        orders.where(side: 'buy').each { |order| result[order[:id]] = [order[:price], order[:amount]] }\n",
    "        result"
   ]
  },
  {
   "cell_type": "code",
   "execution_count": 26,
   "id": "cba0f77e",
   "metadata": {},
   "outputs": [
    {
     "data": {
      "text/plain": [
       "{31=>[\"5\", \"10\"], 32=>[\"5\", \"10\"], 35=>[\"5\", \"10\"], 36=>[\"5\", \"10\"], 40=>[\"14\", \"250\"]}"
      ]
     },
     "execution_count": 26,
     "metadata": {},
     "output_type": "execute_result"
    }
   ],
   "source": [
    "result"
   ]
  },
  {
   "cell_type": "code",
   "execution_count": 24,
   "id": "64a5951a",
   "metadata": {},
   "outputs": [
    {
     "data": {
      "text/plain": [
       "40"
      ]
     },
     "execution_count": 24,
     "metadata": {},
     "output_type": "execute_result"
    }
   ],
   "source": [
    "orders.insert(price: 14, amount: 250, side: 'buy')"
   ]
  },
  {
   "cell_type": "code",
   "execution_count": 28,
   "id": "322e8e6c",
   "metadata": {},
   "outputs": [
    {
     "data": {
      "text/plain": [
       "[31, [\"5\", \"10\"]]"
      ]
     },
     "execution_count": 28,
     "metadata": {},
     "output_type": "execute_result"
    }
   ],
   "source": [
    "result.min_by { |k, v| BigDecimal(v[0])}"
   ]
  },
  {
   "cell_type": "code",
   "execution_count": null,
   "id": "f42aaab9",
   "metadata": {},
   "outputs": [],
   "source": []
  }
 ],
 "metadata": {
  "kernelspec": {
   "display_name": "Ruby 3.1.2",
   "language": "ruby",
   "name": "ruby"
  },
  "language_info": {
   "file_extension": ".rb",
   "mimetype": "application/x-ruby",
   "name": "ruby",
   "version": "3.1.2"
  }
 },
 "nbformat": 4,
 "nbformat_minor": 5
}
