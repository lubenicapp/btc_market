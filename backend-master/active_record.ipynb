{
 "cells": [
  {
   "cell_type": "code",
   "execution_count": null,
   "id": "f5f648e5",
   "metadata": {},
   "outputs": [],
   "source": [
    "require 'sequel'"
   ]
  },
  {
   "cell_type": "code",
   "execution_count": null,
   "id": "7685366c",
   "metadata": {},
   "outputs": [],
   "source": [
    "DB = Sequel.connect(\n",
    "  :adapter => 'mysql2',\n",
    "  :user => 'joe',\n",
    "  :host => '0.0.0.0',\n",
    "  :database => 'paymium' ,\n",
    "  :password=>'taxi')"
   ]
  },
  {
   "cell_type": "code",
   "execution_count": null,
   "id": "2928c1de",
   "metadata": {},
   "outputs": [],
   "source": [
    "DB.tables"
   ]
  },
  {
   "cell_type": "code",
   "execution_count": null,
   "id": "8bcf8c9f",
   "metadata": {},
   "outputs": [
    {
     "data": {
      "text/plain": [
       ":total"
      ]
     },
     "execution_count": 4,
     "metadata": {},
     "output_type": "execute_result"
    }
   ],
   "source": [
    "class User < Sequel::Model\n",
    "  def total\n",
    "    self.btc + self.eur\n",
    "  end\n",
    "end"
   ]
  },
  {
   "cell_type": "code",
   "execution_count": 5,
   "id": "7c7106d1",
   "metadata": {},
   "outputs": [
    {
     "data": {
      "text/plain": [
       "[#<#<Class:0x00007fc381719de0>::User @values={:id=>3, :eur=>\"0.17780099852e5\", :btc=>\"0.1450222e3\"}>, #<#<Class:0x00007fc381719de0>::User @values={:id=>4, :eur=>\"114444444\", :btc=>\"111110\"}>, #<#<Class:0x00007fc381719de0>::User @values={:id=>5, :eur=>\"114444444\", :btc=>\"111110\"}>, #<#<Class:0x00007fc381719de0>::User @values={:id=>6, :eur=>\"114444444\", :btc=>\"111110\"}>, #<#<Class:0x00007fc381719de0>::User @values={:id=>7, :eur=>\"114444444\", :btc=>\"111110\"}>, #<#<Class:0x00007fc381719de0>::User @values={:id=>8, :eur=>\"114444444\", :btc=>\"111110\"}>]"
      ]
     },
     "execution_count": 5,
     "metadata": {},
     "output_type": "execute_result"
    }
   ],
   "source": [
    "user = User.all"
   ]
  },
  {
   "cell_type": "code",
   "execution_count": 6,
   "id": "a4552bfb",
   "metadata": {},
   "outputs": [
    {
     "data": {
      "text/plain": [
       "#<#<Class:0x00007fc381719de0>::User @values={:btc=>\"0.1450222e3\", :eur=>\"0.17780099852e5\"}>"
      ]
     },
     "execution_count": 6,
     "metadata": {},
     "output_type": "execute_result"
    }
   ],
   "source": [
    "user = User.new(btc: BigDecimal('145.0222').to_s, eur: BigDecimal('17780.099852'))"
   ]
  },
  {
   "cell_type": "code",
   "execution_count": 7,
   "id": "8a801c33",
   "metadata": {},
   "outputs": [
    {
     "data": {
      "text/plain": [
       "9"
      ]
     },
     "execution_count": 7,
     "metadata": {},
     "output_type": "execute_result"
    }
   ],
   "source": [
    "user.save.id"
   ]
  },
  {
   "cell_type": "code",
   "execution_count": null,
   "id": "2fdb039a",
   "metadata": {},
   "outputs": [],
   "source": [
    "User.first"
   ]
  },
  {
   "cell_type": "code",
   "execution_count": null,
   "id": "d1cb12a1",
   "metadata": {},
   "outputs": [],
   "source": [
    "BigDecimal('joe')"
   ]
  },
  {
   "cell_type": "code",
   "execution_count": 8,
   "id": "6c87510b",
   "metadata": {},
   "outputs": [
    {
     "data": {
      "text/plain": [
       "#<Sequel::Mysql2::Dataset: \"SELECT * FROM `users`\">"
      ]
     },
     "execution_count": 8,
     "metadata": {},
     "output_type": "execute_result"
    }
   ],
   "source": [
    "users = DB[:users]"
   ]
  },
  {
   "cell_type": "code",
   "execution_count": 12,
   "id": "903b20ff",
   "metadata": {},
   "outputs": [
    {
     "data": {
      "text/plain": [
       "[{5=>[\"111110\"]}]"
      ]
     },
     "execution_count": 12,
     "metadata": {},
     "output_type": "execute_result"
    }
   ],
   "source": [
    "users.where(id: 5).map { |u| {u[:id]=>[u[:btc]]} }"
   ]
  },
  {
   "cell_type": "code",
   "execution_count": 17,
   "id": "0e199ca3",
   "metadata": {},
   "outputs": [
    {
     "data": {
      "text/plain": [
       ":arr"
      ]
     },
     "execution_count": 17,
     "metadata": {},
     "output_type": "execute_result"
    }
   ],
   "source": [
    "def arr(btc: 0)\n",
    "  puts btc\n",
    "end"
   ]
  },
  {
   "cell_type": "code",
   "execution_count": 18,
   "id": "73b6d637",
   "metadata": {},
   "outputs": [
    {
     "name": "stdout",
     "output_type": "stream",
     "text": [
      "0\n"
     ]
    }
   ],
   "source": [
    "arr"
   ]
  },
  {
   "cell_type": "code",
   "execution_count": 19,
   "id": "5d6a7148",
   "metadata": {},
   "outputs": [
    {
     "name": "stdout",
     "output_type": "stream",
     "text": [
      "14\n"
     ]
    }
   ],
   "source": [
    "arr(btc: 14)"
   ]
  },
  {
   "cell_type": "code",
   "execution_count": null,
   "id": "d28e82a2",
   "metadata": {},
   "outputs": [],
   "source": []
  }
 ],
 "metadata": {
  "kernelspec": {
   "display_name": "Ruby 3.1.2",
   "language": "ruby",
   "name": "ruby"
  },
  "language_info": {
   "file_extension": ".rb",
   "mimetype": "application/x-ruby",
   "name": "ruby",
   "version": "3.1.2"
  }
 },
 "nbformat": 4,
 "nbformat_minor": 5
}
